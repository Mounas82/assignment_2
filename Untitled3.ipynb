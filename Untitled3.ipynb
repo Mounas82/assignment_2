{
 "cells": [
  {
   "cell_type": "code",
   "execution_count": 1,
   "metadata": {},
   "outputs": [
    {
     "name": "stdout",
     "output_type": "stream",
     "text": [
      "Hello World!\n"
     ]
    }
   ],
   "source": [
    "print(\"Hello World!\")"
   ]
  },
  {
   "cell_type": "code",
   "execution_count": 2,
   "metadata": {},
   "outputs": [
    {
     "name": "stdout",
     "output_type": "stream",
     "text": [
      "Hello world!\n"
     ]
    }
   ],
   "source": [
    "msg= \"Hello world!\"\n",
    "print(msg)"
   ]
  },
  {
   "cell_type": "code",
   "execution_count": 5,
   "metadata": {},
   "outputs": [
    {
     "name": "stdout",
     "output_type": "stream",
     "text": [
      "100\n"
     ]
    }
   ],
   "source": [
    "math = 20\n",
    "stat = 40\n",
    "eng = 40\n",
    "total = math + stat + eng\n",
    "\n",
    "print(total)"
   ]
  },
  {
   "cell_type": "code",
   "execution_count": 4,
   "metadata": {},
   "outputs": [
    {
     "name": "stdout",
     "output_type": "stream",
     "text": [
      "What is your marks in Mathematics20\n",
      "What is your marks in Statistics20\n",
      "What is your marks in English40\n"
     ]
    }
   ],
   "source": [
    "math = input(\"What is your marks in Mathematics\")\n",
    "stat = input(\"What is your marks in Statistics\")\n",
    "eng = input (\"What is your marks in English\")"
   ]
  },
  {
   "cell_type": "code",
   "execution_count": 8,
   "metadata": {},
   "outputs": [
    {
     "name": "stdout",
     "output_type": "stream",
     "text": [
      "33.333333333333336\n"
     ]
    }
   ],
   "source": [
    "total = math + stat + eng\n",
    "avg_1 = total / 3\n",
    "\n",
    "print(avg_1)"
   ]
  },
  {
   "cell_type": "code",
   "execution_count": 7,
   "metadata": {},
   "outputs": [
    {
     "name": "stdout",
     "output_type": "stream",
     "text": [
      "20\n"
     ]
    }
   ],
   "source": [
    "print(math)"
   ]
  },
  {
   "cell_type": "code",
   "execution_count": 20,
   "metadata": {},
   "outputs": [
    {
     "name": "stdout",
     "output_type": "stream",
     "text": [
      "Hello, \n",
      "\tMOUNAS. \n",
      "\tYou have got 20 marks in \n",
      "\tMATHEMATICS.\n"
     ]
    }
   ],
   "source": [
    "name = \"Mounas\"\n",
    "subject_1 = \"Mathematics\"\n",
    "msg_1 = \"Hello, \\n\\t{pname}. \\n\\tYou have got {pmarks} marks in \\n\\t{psubj}.\" .format(psubj=subject_1.upper(), pname=name.upper(), pmarks=math)\n",
    "\n",
    "print(msg_1)"
   ]
  },
  {
   "cell_type": "code",
   "execution_count": 21,
   "metadata": {},
   "outputs": [
    {
     "data": {
      "text/plain": [
       "int"
      ]
     },
     "execution_count": 21,
     "metadata": {},
     "output_type": "execute_result"
    }
   ],
   "source": [
    "type(total)"
   ]
  },
  {
   "cell_type": "code",
   "execution_count": 22,
   "metadata": {},
   "outputs": [
    {
     "name": "stdout",
     "output_type": "stream",
     "text": [
      "Hello, \n",
      "\tMOUNAS. \n",
      "\tYou have got 20 marks in \n",
      "\tMATHEMATICS.\n"
     ]
    }
   ],
   "source": [
    "print(msg_1)"
   ]
  },
  {
   "cell_type": "code",
   "execution_count": 31,
   "metadata": {},
   "outputs": [
    {
     "name": "stdout",
     "output_type": "stream",
     "text": [
      "\tMUHAMMAD \n",
      "\tMOUNAS \n",
      "\tSAMIM\n"
     ]
    }
   ],
   "source": [
    "first_name = \"\\tMuhammad\"\n",
    "mid_name = \"\\n\\tMounas\"\n",
    "last_name = \"\\n\\tSamim\"\n",
    "full_name = first_name + \" \" + mid_name + \" \" + last_name\n",
    "\n",
    "print(full_name.upper())\n",
    "\n"
   ]
  },
  {
   "cell_type": "code",
   "execution_count": 11,
   "metadata": {},
   "outputs": [
    {
     "name": "stdout",
     "output_type": "stream",
     "text": [
      "Hello World\n"
     ]
    }
   ],
   "source": [
    "name_2 = \"Hello\"\n",
    "name_1 = \"World\"\n",
    "ful_name = name_2 + \" \" + name_1\n",
    "\n",
    "print(ful_name)"
   ]
  },
  {
   "cell_type": "code",
   "execution_count": 9,
   "metadata": {},
   "outputs": [
    {
     "name": "stdout",
     "output_type": "stream",
     "text": [
      "Hello World\n"
     ]
    }
   ],
   "source": [
    "print(\"Hello World\")"
   ]
  },
  {
   "cell_type": "code",
   "execution_count": null,
   "metadata": {},
   "outputs": [],
   "source": [
    "math = 10\n",
    "stat"
   ]
  }
 ],
 "metadata": {
  "kernelspec": {
   "display_name": "Python 3",
   "language": "python",
   "name": "python3"
  },
  "language_info": {
   "codemirror_mode": {
    "name": "ipython",
    "version": 3
   },
   "file_extension": ".py",
   "mimetype": "text/x-python",
   "name": "python",
   "nbconvert_exporter": "python",
   "pygments_lexer": "ipython3",
   "version": "3.7.4"
  }
 },
 "nbformat": 4,
 "nbformat_minor": 2
}
