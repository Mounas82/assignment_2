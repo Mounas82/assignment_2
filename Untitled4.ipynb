{
 "cells": [
  {
   "cell_type": "code",
   "execution_count": 1,
   "metadata": {},
   "outputs": [
    {
     "name": "stdout",
     "output_type": "stream",
     "text": [
      "60\n"
     ]
    }
   ],
   "source": [
    "math = 10\n",
    "stat = 20\n",
    "eng = 30\n",
    "total_marks = math + stat + eng\n",
    "\n",
    "print(total_marks)"
   ]
  },
  {
   "cell_type": "code",
   "execution_count": 2,
   "metadata": {},
   "outputs": [
    {
     "name": "stdout",
     "output_type": "stream",
     "text": [
      "20.0\n"
     ]
    }
   ],
   "source": [
    "print(total_marks/3)"
   ]
  },
  {
   "cell_type": "code",
   "execution_count": 5,
   "metadata": {},
   "outputs": [
    {
     "name": "stdout",
     "output_type": "stream",
     "text": [
      "Enter your marks10\n",
      "Enter your marks40\n",
      "Enter your marks50\n"
     ]
    }
   ],
   "source": [
    "math_1 = int(input(\"Enter your marks\"))\n",
    "stat_1 = int(input(\"Enter your marks\"))\n",
    "eng_1 = int(input(\"Enter your marks\"))"
   ]
  },
  {
   "cell_type": "code",
   "execution_count": 6,
   "metadata": {},
   "outputs": [
    {
     "name": "stdout",
     "output_type": "stream",
     "text": [
      "100\n"
     ]
    }
   ],
   "source": [
    "total_1 = math_1 + stat_1 + eng_1\n",
    "\n",
    "print(total_1)"
   ]
  },
  {
   "cell_type": "code",
   "execution_count": null,
   "metadata": {},
   "outputs": [],
   "source": [
    "name1 = \"muhammad\"\n",
    "name2 = \"mounas\"\n",
    "name3 = \"samim\"\n",
    "full_name = name1 + name2 + name3\n",
    "course_1 = \"artificial intelligence\"\n",
    "university_1 = \"NUML Faisalabad Campus\"\n",
    "\n",
    "msg_1 = \"Hello, Dear {}. Your are selected for the course of {} in the {}.\" .format(full_name, ) "
   ]
  }
 ],
 "metadata": {
  "kernelspec": {
   "display_name": "Python 3",
   "language": "python",
   "name": "python3"
  },
  "language_info": {
   "codemirror_mode": {
    "name": "ipython",
    "version": 3
   },
   "file_extension": ".py",
   "mimetype": "text/x-python",
   "name": "python",
   "nbconvert_exporter": "python",
   "pygments_lexer": "ipython3",
   "version": "3.7.4"
  }
 },
 "nbformat": 4,
 "nbformat_minor": 2
}
