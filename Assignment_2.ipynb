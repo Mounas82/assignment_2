{
 "cells": [
  {
   "cell_type": "code",
   "execution_count": null,
   "metadata": {},
   "outputs": [],
   "source": [
    "# Write formulla for area of circle where\n",
    "# radius is 5\n",
    "# pi is 3.14"
   ]
  },
  {
   "cell_type": "code",
   "execution_count": 16,
   "metadata": {},
   "outputs": [
    {
     "name": "stdout",
     "output_type": "stream",
     "text": [
      "Input the value of radius 5\n",
      "The are of a circle with radius 5 is 78.5\n"
     ]
    }
   ],
   "source": [
    "pi = 3.14\n",
    "r = int(input(\"Input the value of radius \"))\n",
    "Area_of_Circle = \"The are of a circle with radius\" + \" \" + str(r) + \" \" + \"is\" + \" \" + str(pi*r**2)\n",
    "\n",
    "print(Area_of_Circle)"
   ]
  },
  {
   "cell_type": "code",
   "execution_count": 18,
   "metadata": {},
   "outputs": [
    {
     "name": "stdout",
     "output_type": "stream",
     "text": [
      "Input the value of radius 5\n",
      "78.5\n"
     ]
    }
   ],
   "source": [
    "pi = 3.14\n",
    "r = int(input(\"Input the value of radius \"))\n",
    "Area_1 = pi*r**2\n",
    "\n",
    "print(Area_1)"
   ]
  },
  {
   "cell_type": "code",
   "execution_count": 19,
   "metadata": {},
   "outputs": [],
   "source": [
    "# Create lists with following values with following names\n",
    "# cities -> Faisalabad, Islamabad, Karachi, Lahore, Quetta\n",
    "# result -> 93.4, 95, 98.7, 87.4, 83.02\n",
    "# score -> 45, 70, 54, 90, 42"
   ]
  },
  {
   "cell_type": "code",
   "execution_count": 25,
   "metadata": {},
   "outputs": [
    {
     "data": {
      "text/plain": [
       "['Faisalabad', 'Islamabad', 'Karachi', 'Lahore', 'Quetta']"
      ]
     },
     "execution_count": 25,
     "metadata": {},
     "output_type": "execute_result"
    }
   ],
   "source": [
    "cities = [\"Faisalabad\", \"Islamabad\", \"Karachi\", \"Lahore\", \"Quetta\"]\n",
    "\n",
    "cities"
   ]
  },
  {
   "cell_type": "code",
   "execution_count": 38,
   "metadata": {},
   "outputs": [
    {
     "name": "stdout",
     "output_type": "stream",
     "text": [
      "Islamabad Quetta\n"
     ]
    }
   ],
   "source": [
    "print(cities[1], cities[-1])"
   ]
  },
  {
   "cell_type": "code",
   "execution_count": 43,
   "metadata": {},
   "outputs": [
    {
     "name": "stdout",
     "output_type": "stream",
     "text": [
      "The Manchaster of Pakistan is the city of FAISALABAD\n"
     ]
    }
   ],
   "source": [
    "message = \"The Manchaster of Pakistan is the city of \" + cities[0].upper()\n",
    "\n",
    "print(message)"
   ]
  },
  {
   "cell_type": "code",
   "execution_count": null,
   "metadata": {},
   "outputs": [],
   "source": []
  }
 ],
 "metadata": {
  "kernelspec": {
   "display_name": "Python 3",
   "language": "python",
   "name": "python3"
  },
  "language_info": {
   "codemirror_mode": {
    "name": "ipython",
    "version": 3
   },
   "file_extension": ".py",
   "mimetype": "text/x-python",
   "name": "python",
   "nbconvert_exporter": "python",
   "pygments_lexer": "ipython3",
   "version": "3.7.4"
  }
 },
 "nbformat": 4,
 "nbformat_minor": 2
}
